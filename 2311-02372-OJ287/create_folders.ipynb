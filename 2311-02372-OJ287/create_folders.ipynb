{
 "cells": [
  {
   "cell_type": "code",
   "execution_count": 1,
   "metadata": {},
   "outputs": [],
   "source": [
    "import os\n",
    "import pandas as pd\n",
    "from astropy.time import Time"
   ]
  },
  {
   "cell_type": "code",
   "execution_count": 2,
   "metadata": {},
   "outputs": [],
   "source": [
    "file = pd.read_csv('segments_JD.txt', sep='\\t')"
   ]
  },
  {
   "cell_type": "code",
   "execution_count": 3,
   "metadata": {},
   "outputs": [],
   "source": [
    "start_date = []\n",
    "end_date = []\n",
    "for i in range(len(file)):\n",
    "    start_date.append(Time(file['JD_start_day'][i], format='jd').iso)\n",
    "    end_date.append(Time(file['JD_end_day'][i], format='jd').iso)\n",
    "    \n",
    "file['start_date'] = start_date\n",
    "file['end_date'] = end_date\n",
    "file.to_csv('segments.txt', index=False, sep='\\t')"
   ]
  },
  {
   "cell_type": "code",
   "execution_count": 4,
   "metadata": {},
   "outputs": [
    {
     "name": "stdout",
     "output_type": "stream",
     "text": [
      "Folder already exists:   20150918-20160527\n",
      "Folder already exists:   20160913-20170615\n"
     ]
    }
   ],
   "source": [
    "start_date_only = [''.join(i.split(' ')[0].split('-')) for i in start_date]\n",
    "end_date_only = [''.join(i.split(' ')[0].split('-')) for i in end_date]\n",
    "\n",
    "for i in range(len(start_date_only)):\n",
    "    try:\n",
    "        os.mkdir(str(i+1) + '-' + start_date_only[i]+'-'+end_date_only[i])\n",
    "    except:\n",
    "        print('Folder already exists:   ' + start_date_only[i]+'-'+end_date_only[i])\n",
    "    \n",
    "    "
   ]
  },
  {
   "cell_type": "code",
   "execution_count": 5,
   "metadata": {},
   "outputs": [
    {
     "data": {
      "text/plain": [
       "'2019-01-22 12:00:00.000'"
      ]
     },
     "execution_count": 5,
     "metadata": {},
     "output_type": "execute_result"
    }
   ],
   "source": [
    "Time(2458380\t+ (2458632 - 2458380\t)/2, format='jd').iso"
   ]
  },
  {
   "cell_type": "code",
   "execution_count": 12,
   "metadata": {},
   "outputs": [
    {
     "data": {
      "text/plain": [
       "'2018-04-15 12:00:00.000'"
      ]
     },
     "execution_count": 12,
     "metadata": {},
     "output_type": "execute_result"
    }
   ],
   "source": [
    "Time(file['JD_start_day'][3]+ (file['JD_end_day'][3] - file['JD_start_day'][3])/2, format='jd').iso"
   ]
  },
  {
   "cell_type": "code",
   "execution_count": null,
   "metadata": {},
   "outputs": [],
   "source": []
  }
 ],
 "metadata": {
  "kernelspec": {
   "display_name": "Python 3",
   "language": "python",
   "name": "python3"
  },
  "language_info": {
   "codemirror_mode": {
    "name": "ipython",
    "version": 3
   },
   "file_extension": ".py",
   "mimetype": "text/x-python",
   "name": "python",
   "nbconvert_exporter": "python",
   "pygments_lexer": "ipython3",
   "version": "3.10.12"
  }
 },
 "nbformat": 4,
 "nbformat_minor": 2
}
