{
 "cells": [
  {
   "cell_type": "code",
   "execution_count": 1,
   "metadata": {},
   "outputs": [],
   "source": [
    "import os\n",
    "import pandas as pd\n",
    "import shutil"
   ]
  },
  {
   "cell_type": "code",
   "execution_count": 2,
   "metadata": {},
   "outputs": [],
   "source": [
    "dirs = os.listdir()\n",
    "if 'temp' not in os.listdir():\n",
    "    os.mkdir('temp')\n",
    "    \n",
    "dirs.remove('temp')\n",
    "dirs.sort()"
   ]
  },
  {
   "cell_type": "code",
   "execution_count": 3,
   "metadata": {},
   "outputs": [
    {
     "data": {
      "text/plain": [
       "['1-20150918-20160527',\n",
       " '2-20160913-20170615',\n",
       " '3A-20170919-20180123',\n",
       " '3B-20180206-20180622',\n",
       " '4-20180918-20190528',\n",
       " '5-20190928-20200608',\n",
       " '6-20200915-20210503',\n",
       " '7-20211101-20220619',\n",
       " '8-20220818-20230223',\n",
       " 'all-20150918-20230223']"
      ]
     },
     "execution_count": 3,
     "metadata": {},
     "output_type": "execute_result"
    }
   ],
   "source": [
    "dirs = dirs[:10]\n",
    "dirs"
   ]
  },
  {
   "cell_type": "code",
   "execution_count": 4,
   "metadata": {},
   "outputs": [],
   "source": [
    "# import yaml\n",
    "# for i in dirs:\n",
    "#     f = yaml.safe_load(open(i + '/Output/GUI_status.yaml'))\n",
    "#     f['redshift_value'] = '0.306'\n",
    "#     yaml.safe_dump(f, open(i + '/Output/GUI_status.yaml', 'w'))\n",
    "#     print(f)"
   ]
  },
  {
   "cell_type": "code",
   "execution_count": 5,
   "metadata": {},
   "outputs": [],
   "source": [
    "data = pd.DataFrame()\n",
    "req_files = ['Quickplot_LC_20_bins.pdf', 'Quickplot_LC_10_bins.pdf', 'Quickplot_LC_8_bins.pdf', 'Quickplot_LC_7_bins.pdf', 'Quickplot_MCMC_SED_pars.png', 'Quickplot_SED_MCMC.pdf']\n",
    "for i in dirs:\n",
    "    if os.path.isdir(i):\n",
    "        temp = pd.read_csv('./'+i+'/Output/Target_results.txt', sep=':', index_col=0)\n",
    "        temp.columns = [i.split('-')[0]]\n",
    "        data = pd.concat([data, temp], axis=1)\n",
    "        if 'Segment-'+i.split('-')[0] not in os.listdir('./temp'):\n",
    "            os.mkdir('./temp/Segment-'+i.split('-')[0])\n",
    "        for j in req_files:\n",
    "            if j in os.listdir('./'+i+'/Output/'):\n",
    "                shutil.copy('./'+i+'/Output/'+j, './temp/Segment-'+i.split('-')[0]+'/')"
   ]
  },
  {
   "cell_type": "code",
   "execution_count": 6,
   "metadata": {},
   "outputs": [
    {
     "data": {
      "text/plain": [
       "'all'"
      ]
     },
     "execution_count": 6,
     "metadata": {},
     "output_type": "execute_result"
    }
   ],
   "source": [
    "i.split('-')[0]"
   ]
  },
  {
   "cell_type": "code",
   "execution_count": 7,
   "metadata": {},
   "outputs": [],
   "source": [
    "data = data.T\n",
    "data.dropna(axis=1, how='all', inplace=True)"
   ]
  },
  {
   "cell_type": "code",
   "execution_count": 8,
   "metadata": {},
   "outputs": [],
   "source": [
    "temp = data.columns\n",
    "temp = [i.strip() for i in temp]"
   ]
  },
  {
   "cell_type": "code",
   "execution_count": 9,
   "metadata": {},
   "outputs": [],
   "source": [
    "data.columns = temp"
   ]
  },
  {
   "cell_type": "code",
   "execution_count": 10,
   "metadata": {},
   "outputs": [
    {
     "data": {
      "text/html": [
       "<div>\n",
       "<style scoped>\n",
       "    .dataframe tbody tr th:only-of-type {\n",
       "        vertical-align: middle;\n",
       "    }\n",
       "\n",
       "    .dataframe tbody tr th {\n",
       "        vertical-align: top;\n",
       "    }\n",
       "\n",
       "    .dataframe thead th {\n",
       "        text-align: right;\n",
       "    }\n",
       "</style>\n",
       "<table border=\"1\" class=\"dataframe\">\n",
       "  <thead>\n",
       "    <tr style=\"text-align: right;\">\n",
       "      <th></th>\n",
       "      <th>TS</th>\n",
       "      <th>Flux</th>\n",
       "      <th>EnergyFlux</th>\n",
       "      <th>N0 (log scale)</th>\n",
       "      <th>Alpha</th>\n",
       "    </tr>\n",
       "  </thead>\n",
       "  <tbody>\n",
       "    <tr>\n",
       "      <th>1</th>\n",
       "      <td>1586.61</td>\n",
       "      <td>1.079e-07 +/- 7.01e-09</td>\n",
       "      <td>4.649e-05 +/- 2.65e-06</td>\n",
       "      <td>-9.507739575366804 - 0.02502502124581163 + 0....</td>\n",
       "      <td>2.1384035245878206 - 0.03899435243975624 + 0....</td>\n",
       "    </tr>\n",
       "    <tr>\n",
       "      <th>2</th>\n",
       "      <td>891.89</td>\n",
       "      <td>4.07e-08 +/- 5.33e-10</td>\n",
       "      <td>3.524e-05 +/- 9.28e-07</td>\n",
       "      <td>-9.941479948161868 - 0.05056745916780159 + 0....</td>\n",
       "      <td>1.918143726662575 - 0.05420393791647138 + 0.0...</td>\n",
       "    </tr>\n",
       "    <tr>\n",
       "      <th>3A</th>\n",
       "      <td>155.29</td>\n",
       "      <td>3.438e-08 +/- 9.51e-09</td>\n",
       "      <td>1.532e-05 +/- 2.62e-06</td>\n",
       "      <td>-9.894389370624706 - 0.15684972850689327 + 0....</td>\n",
       "      <td>2.1861456280702214 - 0.19043194703520694 + 0....</td>\n",
       "    </tr>\n",
       "    <tr>\n",
       "      <th>3B</th>\n",
       "      <td>154.60</td>\n",
       "      <td>3.882e-08 +/- 6.69e-09</td>\n",
       "      <td>1.862e-05 +/- 3.34e-06</td>\n",
       "      <td>-10.05790185934994 - 0.11867838873017256 + 0....</td>\n",
       "      <td>1.9660427036459327 - 0.12472432475453443 + 0....</td>\n",
       "    </tr>\n",
       "    <tr>\n",
       "      <th>4</th>\n",
       "      <td>263.04</td>\n",
       "      <td>4.8e-08 +/- 7.84e-09</td>\n",
       "      <td>2.015e-05 +/- 3.38e-06</td>\n",
       "      <td>-9.905863843298388 - 0.061680641792854374 + 0...</td>\n",
       "      <td>2.2117895479525203 - 0.09614500985172691 + 0....</td>\n",
       "    </tr>\n",
       "    <tr>\n",
       "      <th>5</th>\n",
       "      <td>379.65</td>\n",
       "      <td>4.524e-08 +/- 7.21e-09</td>\n",
       "      <td>2.602e-05 +/- 4.53e-06</td>\n",
       "      <td>-9.960701408077366 - 0.05128855564801604 + 0....</td>\n",
       "      <td>2.097403968667284 - 0.06527746365978482 + 0.0...</td>\n",
       "    </tr>\n",
       "    <tr>\n",
       "      <th>6</th>\n",
       "      <td>308.48</td>\n",
       "      <td>3.715e-08 +/- 6.68e-09</td>\n",
       "      <td>2.055e-05 +/- 3.32e-06</td>\n",
       "      <td>-9.965862998761297 - 0.06149384847679329 + 0....</td>\n",
       "      <td>2.0302241137611645 - 0.07968564553937862 + 0....</td>\n",
       "    </tr>\n",
       "    <tr>\n",
       "      <th>7</th>\n",
       "      <td>320.09</td>\n",
       "      <td>2.063e-08 +/- 2.45e-09</td>\n",
       "      <td>1.945e-05 +/- 2.72e-06</td>\n",
       "      <td>-10.19722435276412 - 0.1271344058881887 + 0.1...</td>\n",
       "      <td>1.8448547653182437 - 0.11884152748555521 + 0....</td>\n",
       "    </tr>\n",
       "    <tr>\n",
       "      <th>8</th>\n",
       "      <td>173.44</td>\n",
       "      <td>4.612e-08 +/- 1.79e-09</td>\n",
       "      <td>2.154e-05 +/-  1.4e-06</td>\n",
       "      <td>-10.065806741695749 - 0.06556888187547827 + 0...</td>\n",
       "      <td>1.95876200658146 - 0.0848469472574509 + 0.084...</td>\n",
       "    </tr>\n",
       "    <tr>\n",
       "      <th>all</th>\n",
       "      <td>4995.36</td>\n",
       "      <td>5.157e-08 +/- 4.52e-10</td>\n",
       "      <td>2.709e-05 +/- 3.64e-07</td>\n",
       "      <td>-9.865728827019371 - 0.014385248738188139 + 0...</td>\n",
       "      <td>2.1244185776971243 - 0.01845332139496847 + 0....</td>\n",
       "    </tr>\n",
       "  </tbody>\n",
       "</table>\n",
       "</div>"
      ],
      "text/plain": [
       "           TS                     Flux               EnergyFlux  \\\n",
       "1     1586.61   1.079e-07 +/- 7.01e-09   4.649e-05 +/- 2.65e-06   \n",
       "2      891.89    4.07e-08 +/- 5.33e-10   3.524e-05 +/- 9.28e-07   \n",
       "3A     155.29   3.438e-08 +/- 9.51e-09   1.532e-05 +/- 2.62e-06   \n",
       "3B     154.60   3.882e-08 +/- 6.69e-09   1.862e-05 +/- 3.34e-06   \n",
       "4      263.04     4.8e-08 +/- 7.84e-09   2.015e-05 +/- 3.38e-06   \n",
       "5      379.65   4.524e-08 +/- 7.21e-09   2.602e-05 +/- 4.53e-06   \n",
       "6      308.48   3.715e-08 +/- 6.68e-09   2.055e-05 +/- 3.32e-06   \n",
       "7      320.09   2.063e-08 +/- 2.45e-09   1.945e-05 +/- 2.72e-06   \n",
       "8      173.44   4.612e-08 +/- 1.79e-09   2.154e-05 +/-  1.4e-06   \n",
       "all   4995.36   5.157e-08 +/- 4.52e-10   2.709e-05 +/- 3.64e-07   \n",
       "\n",
       "                                        N0 (log scale)  \\\n",
       "1     -9.507739575366804 - 0.02502502124581163 + 0....   \n",
       "2     -9.941479948161868 - 0.05056745916780159 + 0....   \n",
       "3A    -9.894389370624706 - 0.15684972850689327 + 0....   \n",
       "3B    -10.05790185934994 - 0.11867838873017256 + 0....   \n",
       "4     -9.905863843298388 - 0.061680641792854374 + 0...   \n",
       "5     -9.960701408077366 - 0.05128855564801604 + 0....   \n",
       "6     -9.965862998761297 - 0.06149384847679329 + 0....   \n",
       "7     -10.19722435276412 - 0.1271344058881887 + 0.1...   \n",
       "8     -10.065806741695749 - 0.06556888187547827 + 0...   \n",
       "all   -9.865728827019371 - 0.014385248738188139 + 0...   \n",
       "\n",
       "                                                 Alpha  \n",
       "1     2.1384035245878206 - 0.03899435243975624 + 0....  \n",
       "2     1.918143726662575 - 0.05420393791647138 + 0.0...  \n",
       "3A    2.1861456280702214 - 0.19043194703520694 + 0....  \n",
       "3B    1.9660427036459327 - 0.12472432475453443 + 0....  \n",
       "4     2.2117895479525203 - 0.09614500985172691 + 0....  \n",
       "5     2.097403968667284 - 0.06527746365978482 + 0.0...  \n",
       "6     2.0302241137611645 - 0.07968564553937862 + 0....  \n",
       "7     1.8448547653182437 - 0.11884152748555521 + 0....  \n",
       "8     1.95876200658146 - 0.0848469472574509 + 0.084...  \n",
       "all   2.1244185776971243 - 0.01845332139496847 + 0....  "
      ]
     },
     "execution_count": 10,
     "metadata": {},
     "output_type": "execute_result"
    }
   ],
   "source": [
    "data[['TS', 'Flux', 'EnergyFlux', 'N0 (log scale)', 'Alpha']]"
   ]
  },
  {
   "cell_type": "code",
   "execution_count": 11,
   "metadata": {},
   "outputs": [],
   "source": [
    "data[['TS', 'Flux', 'EnergyFlux', 'N0 (log scale)', 'Alpha']].to_latex('./temp/Target_results.tex', float_format='%.2f')"
   ]
  },
  {
   "cell_type": "code",
   "execution_count": null,
   "metadata": {},
   "outputs": [],
   "source": []
  }
 ],
 "metadata": {
  "kernelspec": {
   "display_name": "Python 3",
   "language": "python",
   "name": "python3"
  },
  "language_info": {
   "codemirror_mode": {
    "name": "ipython",
    "version": 3
   },
   "file_extension": ".py",
   "mimetype": "text/x-python",
   "name": "python",
   "nbconvert_exporter": "python",
   "pygments_lexer": "ipython3",
   "version": "3.10.12"
  }
 },
 "nbformat": 4,
 "nbformat_minor": 2
}
