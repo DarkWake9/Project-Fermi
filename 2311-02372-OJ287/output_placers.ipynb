{
 "cells": [
  {
   "cell_type": "code",
   "execution_count": 1,
   "metadata": {},
   "outputs": [],
   "source": [
    "import os\n",
    "import pandas as pd\n",
    "import shutil"
   ]
  },
  {
   "cell_type": "code",
   "execution_count": 2,
   "metadata": {},
   "outputs": [],
   "source": [
    "dirs = os.listdir()\n",
    "if 'temp' not in os.listdir():\n",
    "    os.mkdir('temp')\n",
    "    \n",
    "dirs.remove('temp')\n",
    "dirs.sort()"
   ]
  },
  {
   "cell_type": "code",
   "execution_count": 3,
   "metadata": {},
   "outputs": [
    {
     "data": {
      "text/plain": [
       "['1-20150918-20160527',\n",
       " '2-20160913-20170615',\n",
       " '3A-20170919-20180123',\n",
       " '3B-20180206-20180622',\n",
       " '4-20180918-20190528',\n",
       " '5-20190928-20200608',\n",
       " '6-20200915-20210503',\n",
       " '7-20211101-20220619',\n",
       " '8-20220818-20230223',\n",
       " 'all-20150918-20230223']"
      ]
     },
     "execution_count": 3,
     "metadata": {},
     "output_type": "execute_result"
    }
   ],
   "source": [
    "dirs = dirs[:10]\n",
    "dirs"
   ]
  },
  {
   "cell_type": "code",
   "execution_count": 4,
   "metadata": {},
   "outputs": [],
   "source": [
    "# import yaml\n",
    "# for i in dirs:\n",
    "#     f = yaml.safe_load(open(i + '/Output/GUI_status.yaml'))\n",
    "#     f['redshift_value'] = '0.306'\n",
    "#     yaml.safe_dump(f, open(i + '/Output/GUI_status.yaml', 'w'))\n",
    "#     print(f)"
   ]
  },
  {
   "cell_type": "code",
   "execution_count": 5,
   "metadata": {},
   "outputs": [],
   "source": [
    "data = pd.DataFrame()\n",
    "req_files = ['Quickplot_LC_20_bins.pdf', 'Quickplot_LC_10_bins.pdf', 'Quickplot_LC_8_bins.pdf', 'Quickplot_LC_7_bins.pdf', 'Quickplot_MCMC_SED_pars.png', 'Quickplot_SED_MCMC.pdf']\n",
    "for i in dirs:\n",
    "    if os.path.isdir(i):\n",
    "        temp = pd.read_csv('./'+i+'/Output/Target_results.txt', sep=':', index_col=0)\n",
    "        temp.columns = [i.split('-')[0]]\n",
    "        data = pd.concat([data, temp], axis=1)\n",
    "        if 'Segment-'+i.split('-')[0] not in os.listdir('./temp'):\n",
    "            os.mkdir('./temp/Segment-'+i.split('-')[0])\n",
    "        for j in req_files:\n",
    "            if j in os.listdir('./'+i+'/Output/'):\n",
    "                shutil.copy('./'+i+'/Output/'+j, './temp/Segment-'+i.split('-')[0]+'/')"
   ]
  },
  {
   "cell_type": "code",
   "execution_count": 6,
   "metadata": {},
   "outputs": [
    {
     "data": {
      "text/plain": [
       "'all'"
      ]
     },
     "execution_count": 6,
     "metadata": {},
     "output_type": "execute_result"
    }
   ],
   "source": [
    "i.split('-')[0]"
   ]
  },
  {
   "cell_type": "code",
   "execution_count": 7,
   "metadata": {},
   "outputs": [],
   "source": [
    "data = data.T\n",
    "data.dropna(axis=1, how='all', inplace=True)"
   ]
  },
  {
   "cell_type": "code",
   "execution_count": 8,
   "metadata": {},
   "outputs": [],
   "source": [
    "temp = data.columns\n",
    "temp = [i.strip() for i in temp]"
   ]
  },
  {
   "cell_type": "code",
   "execution_count": 9,
   "metadata": {},
   "outputs": [],
   "source": [
    "data.columns = temp"
   ]
  },
  {
   "cell_type": "code",
   "execution_count": 10,
   "metadata": {},
   "outputs": [],
   "source": [
    "data[['TS', 'Flux', 'EnergyFlux', 'N0 (log scale)', 'Alpha']].to_latex('./temp/Target_results.tex', float_format='%.2f')"
   ]
  },
  {
   "cell_type": "code",
   "execution_count": null,
   "metadata": {},
   "outputs": [],
   "source": []
  }
 ],
 "metadata": {
  "kernelspec": {
   "display_name": "Python 3",
   "language": "python",
   "name": "python3"
  },
  "language_info": {
   "codemirror_mode": {
    "name": "ipython",
    "version": 3
   },
   "file_extension": ".py",
   "mimetype": "text/x-python",
   "name": "python",
   "nbconvert_exporter": "python",
   "pygments_lexer": "ipython3",
   "version": "3.10.12"
  }
 },
 "nbformat": 4,
 "nbformat_minor": 2
}
